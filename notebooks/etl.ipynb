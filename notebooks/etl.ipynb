{
 "cells": [
  {
   "cell_type": "code",
   "execution_count": 1,
   "metadata": {},
   "outputs": [],
   "source": [
    "import pandas as pd\n",
    "import  matplotlib.pyplot as plt \n",
    "import os, sys\n",
    "sys.path.append(\"../\")\n",
    "# sys.path.append(os.path.abspath(os.path.join(\"../data\")))"
   ]
  },
  {
   "cell_type": "markdown",
   "metadata": {},
   "source": [
    "Data sourced from https://open-traffic.epfl.ch/index.php/downloads/#1599047632394-7ca81bff-5221 \n",
    "\n",
    "\n",
    "### `Data Description`:\n",
    "Each.csv file has the following:\n",
    "\n",
    "- Each row represents the data of a single vehicle\n",
    "- The first 4 columns include information about the trajectory\n",
    "    - track_id: unique trackID,  \n",
    "    - type: type of vehicle,\n",
    "    - traveled_d: distance traveled in meters,\n",
    "    - avg_speed: average speed of the vehicle in km/h\n",
    "    \n",
    "- The next columns contain information at specific time, repeated every 6 columns in this order\n",
    "    - lat: latitude, at time column i+5\n",
    "    - lon: logitude, at time column i+4\n",
    "    - speed:  Speed is in km/h, at time column i+3\n",
    "    - lon_acc: Longitudinal Acceleration in m/sec2, at time column i+2 \n",
    "    - lat_acc: Lateral Acceleration in m/sec2, at time column i+1\n",
    "    - time: time in seconds"
   ]
  },
  {
   "cell_type": "code",
   "execution_count": 2,
   "metadata": {},
   "outputs": [
    {
     "data": {
      "text/html": [
       "<div>\n",
       "<style scoped>\n",
       "    .dataframe tbody tr th:only-of-type {\n",
       "        vertical-align: middle;\n",
       "    }\n",
       "\n",
       "    .dataframe tbody tr th {\n",
       "        vertical-align: top;\n",
       "    }\n",
       "\n",
       "    .dataframe thead th {\n",
       "        text-align: right;\n",
       "    }\n",
       "</style>\n",
       "<table border=\"1\" class=\"dataframe\">\n",
       "  <thead>\n",
       "    <tr style=\"text-align: right;\">\n",
       "      <th></th>\n",
       "      <th>track_id; type; traveled_d; avg_speed; lat; lon; speed; lon_acc; lat_acc; time</th>\n",
       "    </tr>\n",
       "  </thead>\n",
       "  <tbody>\n",
       "    <tr>\n",
       "      <th>0</th>\n",
       "      <td>1; Car; 48.85; 9.770344; 37.977391; 23.737688;...</td>\n",
       "    </tr>\n",
       "    <tr>\n",
       "      <th>1</th>\n",
       "      <td>2; Motorcycle; 98.09; 19.839417; 37.977642; 23...</td>\n",
       "    </tr>\n",
       "    <tr>\n",
       "      <th>2</th>\n",
       "      <td>3; Motorcycle; 63.80; 18.228752; 37.977997; 23...</td>\n",
       "    </tr>\n",
       "    <tr>\n",
       "      <th>3</th>\n",
       "      <td>4; Motorcycle; 145.72; 26.229014; 37.978135; 2...</td>\n",
       "    </tr>\n",
       "    <tr>\n",
       "      <th>4</th>\n",
       "      <td>5; Motorcycle; 138.01; 24.841425; 37.978134; 2...</td>\n",
       "    </tr>\n",
       "    <tr>\n",
       "      <th>5</th>\n",
       "      <td>6; Medium Vehicle; 159.97; 17.451502; 37.97815...</td>\n",
       "    </tr>\n",
       "    <tr>\n",
       "      <th>6</th>\n",
       "      <td>7; Motorcycle; 153.91; 22.895895; 37.978145; 2...</td>\n",
       "    </tr>\n",
       "    <tr>\n",
       "      <th>7</th>\n",
       "      <td>8; Car; 158.21; 21.739084; 37.978230; 23.73708...</td>\n",
       "    </tr>\n",
       "    <tr>\n",
       "      <th>8</th>\n",
       "      <td>9; Car; 161.01; 21.154471; 37.978185; 23.73712...</td>\n",
       "    </tr>\n",
       "    <tr>\n",
       "      <th>9</th>\n",
       "      <td>10; Car; 159.53; 18.891989; 37.978190; 23.7370...</td>\n",
       "    </tr>\n",
       "  </tbody>\n",
       "</table>\n",
       "</div>"
      ],
      "text/plain": [
       "  track_id; type; traveled_d; avg_speed; lat; lon; speed; lon_acc; lat_acc; time\n",
       "0  1; Car; 48.85; 9.770344; 37.977391; 23.737688;...                            \n",
       "1  2; Motorcycle; 98.09; 19.839417; 37.977642; 23...                            \n",
       "2  3; Motorcycle; 63.80; 18.228752; 37.977997; 23...                            \n",
       "3  4; Motorcycle; 145.72; 26.229014; 37.978135; 2...                            \n",
       "4  5; Motorcycle; 138.01; 24.841425; 37.978134; 2...                            \n",
       "5  6; Medium Vehicle; 159.97; 17.451502; 37.97815...                            \n",
       "6  7; Motorcycle; 153.91; 22.895895; 37.978145; 2...                            \n",
       "7  8; Car; 158.21; 21.739084; 37.978230; 23.73708...                            \n",
       "8  9; Car; 161.01; 21.154471; 37.978185; 23.73712...                            \n",
       "9  10; Car; 159.53; 18.891989; 37.978190; 23.7370...                            "
      ]
     },
     "execution_count": 2,
     "metadata": {},
     "output_type": "execute_result"
    }
   ],
   "source": [
    "# load data\n",
    "data= pd.read_csv(\"../data/20181024_d1_0830_0900.csv\", sep=\",\")\n",
    "data.head(10)"
   ]
  },
  {
   "cell_type": "code",
   "execution_count": null,
   "metadata": {},
   "outputs": [],
   "source": [
    "data.__len__()"
   ]
  },
  {
   "cell_type": "code",
   "execution_count": 3,
   "metadata": {},
   "outputs": [],
   "source": [
    "raw_data = data.copy()"
   ]
  },
  {
   "cell_type": "code",
   "execution_count": 4,
   "metadata": {},
   "outputs": [
    {
     "data": {
      "text/plain": [
       "Index(['track_id; type; traveled_d; avg_speed; lat; lon; speed; lon_acc; lat_acc; time'], dtype='object')"
      ]
     },
     "execution_count": 4,
     "metadata": {},
     "output_type": "execute_result"
    }
   ],
   "source": [
    "raw_data.columns"
   ]
  },
  {
   "cell_type": "markdown",
   "metadata": {},
   "source": [
    "We cannot read the data as a simple dataframe, because the rows don't contain equal numbers of columns."
   ]
  },
  {
   "cell_type": "code",
   "execution_count": 12,
   "metadata": {},
   "outputs": [
    {
     "name": "stdout",
     "output_type": "stream",
     "text": [
      "max number of columns: 122831\n",
      "min number of columns: 10\n"
     ]
    }
   ],
   "source": [
    "data_file = \"../data/20181024_d1_0830_0900.csv\"\n",
    "sep = ';'\n",
    "number_of_columns = []\n",
    "\n",
    "with open(data_file, 'r') as f:\n",
    "    lines= f.readlines()\n",
    "    for line in lines:\n",
    "        # print(line.strip('\\n').strip(\" \").split(sep))\n",
    "        column_count= len(line.strip('\\n').strip(\" \").split(sep))\n",
    "        number_of_columns.append(column_count)\n",
    "\n",
    "print(f\"max number of columns: {max(number_of_columns)}\\nmin number of columns: {min(number_of_columns)}\" )\n",
    "       "
   ]
  },
  {
   "cell_type": "code",
   "execution_count": 20,
   "metadata": {},
   "outputs": [
    {
     "name": "stdout",
     "output_type": "stream",
     "text": [
      "['track_id', 'type', 'traveled_d', 'avg_speed', 'lat', 'lon', 'speed', 'lon_acc', 'lat_acc', 'time']\n"
     ]
    }
   ],
   "source": [
    "columns=lines[0].strip('\\n').replace(' ', '').split(';')\n",
    "print(columns)"
   ]
  },
  {
   "cell_type": "markdown",
   "metadata": {},
   "source": [
    "It makes sense (in a relational database) to split this data into two tables:\n",
    "\n",
    "- `vehicles`: contains a unique row for each tack. contains unique values of first 4 columns (track_id, type, traveled_d, avg_speed)\n",
    "\n",
    "- `trajectories`: contains information of tracks at various timestamps, identified by a unique combination of track_id + time."
   ]
  },
  {
   "cell_type": "code",
   "execution_count": 22,
   "metadata": {},
   "outputs": [],
   "source": [
    "col_vehicle = columns[:4]\n",
    "col_trajectory = columns[:1] + columns[4:]"
   ]
  }
 ],
 "metadata": {
  "kernelspec": {
   "display_name": "base",
   "language": "python",
   "name": "python3"
  },
  "language_info": {
   "codemirror_mode": {
    "name": "ipython",
    "version": 3
   },
   "file_extension": ".py",
   "mimetype": "text/x-python",
   "name": "python",
   "nbconvert_exporter": "python",
   "pygments_lexer": "ipython3",
   "version": "3.9.13"
  }
 },
 "nbformat": 4,
 "nbformat_minor": 2
}
